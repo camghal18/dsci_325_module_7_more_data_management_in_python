{
 "cells": [
  {
   "cell_type": "code",
   "execution_count": 3,
   "id": "5922dafe-88d4-4bb1-904b-4d2845f8e885",
   "metadata": {},
   "outputs": [],
   "source": [
    "import polars as pl"
   ]
  },
  {
   "cell_type": "code",
   "execution_count": 4,
   "id": "dc1161fa-010a-4de6-9308-860e41165443",
   "metadata": {},
   "outputs": [],
   "source": [
    "artwork_dtypes = {'Title': pl.datatypes.Utf8,\n",
    "                  'Artist': pl.datatypes.Utf8,\n",
    "                  'ConstituentID': pl.datatypes.Utf8,\n",
    "                  'ArtistBio': pl.datatypes.Utf8,\n",
    "                  'Nationality': pl.datatypes.Utf8,\n",
    "                  'BeginDate': pl.datatypes.Utf8,\n",
    "                  'EndDate': pl.datatypes.Utf8,\n",
    "                  'Gender': pl.datatypes.Utf8,\n",
    "                  'Date': pl.datatypes.Utf8,\n",
    "                  'Medium': pl.datatypes.Utf8,\n",
    "                  'Dimensions': pl.datatypes.Utf8,\n",
    "                  'CreditLine': pl.datatypes.Utf8,\n",
    "                  'AccessionNumber': pl.datatypes.Utf8,\n",
    "                  'Classification': pl.datatypes.Utf8,\n",
    "                  'Department': pl.datatypes.Utf8,\n",
    "                  'DateAcquired': pl.datatypes.Utf8,\n",
    "                  'Cataloged': pl.datatypes.Utf8,\n",
    "                  'ObjectID': pl.datatypes.Int64,\n",
    "                  'URL': pl.datatypes.Utf8,\n",
    "                  'ThumbnailURL': pl.datatypes.Utf8,\n",
    "                  'Circumference (cm)': pl.datatypes.Float64,\n",
    "                  'Depth (cm)': pl.datatypes.Float64,\n",
    "                  'Diameter (cm)': pl.datatypes.Float64,\n",
    "                  'Height (cm)': pl.datatypes.Float64,\n",
    "                  'Length (cm)': pl.datatypes.Float64,\n",
    "                  'Weight (kg)': pl.datatypes.Float64,\n",
    "                  'Width (cm)': pl.datatypes.Float64,\n",
    "                  'Seat Height (cm)': pl.datatypes.Float64,\n",
    "                  'Duration (sec.)': pl.datatypes.Float64}"
   ]
  },
  {
   "cell_type": "code",
   "execution_count": null,
   "id": "aa3d940c-68b4-440b-b4df-b24ace6a95f6",
   "metadata": {},
   "outputs": [],
   "source": [
    "#Add dtype to 'read_csv', see first polars notebook\n",
    "\n",
    " # .with_columns(Measurment = pl.when(pl.col('Measurement').str.contains(r'\\(cm\\)'))\n",
    " #                                        .then(pl.col('Measurement') *10)\n",
    " #                                       .otherwise(pl.col('Measurement'))\n",
    " #                                        .alias('Measurement')\n",
    " #                       )\n",
    "                   "
   ]
  },
  {
   "cell_type": "code",
   "execution_count": 20,
   "id": "f41ee863-7b97-42a0-ae97-b094a0c04cc5",
   "metadata": {},
   "outputs": [
    {
     "name": "stderr",
     "output_type": "stream",
     "text": [
      "C:\\Users\\lr7273ow\\AppData\\Local\\Temp\\ipykernel_13380\\2802574002.py:1: DeprecationWarning: The argument `dtypes` for `read_csv` is deprecated. It has been renamed to `schema_overrides`.\n",
      "  artwork_data = pl.read_csv('./sample_data/Artworks.csv',dtypes = artwork_dtypes )\n"
     ]
    },
    {
     "data": {
      "text/html": [
       "<div><style>\n",
       ".dataframe > thead > tr,\n",
       ".dataframe > tbody > tr {\n",
       "  text-align: right;\n",
       "  white-space: pre-wrap;\n",
       "}\n",
       "</style>\n",
       "<small>shape: (138_151, 29)</small><table border=\"1\" class=\"dataframe\"><thead><tr><th>Title</th><th>Artist</th><th>ConstituentID</th><th>ArtistBio</th><th>Nationality</th><th>BeginDate</th><th>EndDate</th><th>Gender</th><th>Date</th><th>Medium</th><th>Dimensions</th><th>CreditLine</th><th>AccessionNumber</th><th>Classification</th><th>Department</th><th>DateAcquired</th><th>Cataloged</th><th>ObjectID</th><th>URL</th><th>ThumbnailURL</th><th>Circumference (cm)</th><th>Depth (cm)</th><th>Diameter (cm)</th><th>Height (cm)</th><th>Length (cm)</th><th>Weight (kg)</th><th>Width (cm)</th><th>Seat Height (cm)</th><th>Duration (sec.)</th></tr><tr><td>str</td><td>str</td><td>str</td><td>str</td><td>str</td><td>str</td><td>str</td><td>str</td><td>str</td><td>str</td><td>str</td><td>str</td><td>str</td><td>str</td><td>str</td><td>str</td><td>str</td><td>i64</td><td>str</td><td>str</td><td>f64</td><td>f64</td><td>f64</td><td>f64</td><td>f64</td><td>f64</td><td>f64</td><td>f64</td><td>f64</td></tr></thead><tbody><tr><td>&quot;Ferdinandsbrücke Project, Vien…</td><td>&quot;Otto Wagner&quot;</td><td>&quot;6210&quot;</td><td>&quot;(Austrian, 1841–1918)&quot;</td><td>&quot;(Austrian)&quot;</td><td>&quot;(1841)&quot;</td><td>&quot;(1918)&quot;</td><td>&quot;(Male)&quot;</td><td>&quot;1896&quot;</td><td>&quot;Ink and cut-and-pasted painted…</td><td>&quot;19 1/8 x 66 1/2&quot; (48.6 x 168.9…</td><td>&quot;Fractional and promised gift o…</td><td>&quot;885.1996&quot;</td><td>&quot;Architecture&quot;</td><td>&quot;Architecture &amp; Design&quot;</td><td>&quot;1996-04-09&quot;</td><td>&quot;Y&quot;</td><td>2</td><td>&quot;http://www.moma.org/collection…</td><td>&quot;http://www.moma.org/media/W1si…</td><td>null</td><td>null</td><td>null</td><td>48.6</td><td>null</td><td>null</td><td>168.9</td><td>null</td><td>null</td></tr><tr><td>&quot;City of Music, National Superi…</td><td>&quot;Christian de Portzamparc&quot;</td><td>&quot;7470&quot;</td><td>&quot;(French, born 1944)&quot;</td><td>&quot;(French)&quot;</td><td>&quot;(1944)&quot;</td><td>&quot;(0)&quot;</td><td>&quot;(Male)&quot;</td><td>&quot;1987&quot;</td><td>&quot;Paint and colored pencil on pr…</td><td>&quot;16 x 11 3/4&quot; (40.6 x 29.8 cm)&quot;</td><td>&quot;Gift of the architect in honor…</td><td>&quot;1.1995&quot;</td><td>&quot;Architecture&quot;</td><td>&quot;Architecture &amp; Design&quot;</td><td>&quot;1995-01-17&quot;</td><td>&quot;Y&quot;</td><td>3</td><td>&quot;http://www.moma.org/collection…</td><td>&quot;http://www.moma.org/media/W1si…</td><td>null</td><td>null</td><td>null</td><td>40.6401</td><td>null</td><td>null</td><td>29.8451</td><td>null</td><td>null</td></tr><tr><td>&quot;Villa near Vienna Project, Out…</td><td>&quot;Emil Hoppe&quot;</td><td>&quot;7605&quot;</td><td>&quot;(Austrian, 1876–1957)&quot;</td><td>&quot;(Austrian)&quot;</td><td>&quot;(1876)&quot;</td><td>&quot;(1957)&quot;</td><td>&quot;(Male)&quot;</td><td>&quot;1903&quot;</td><td>&quot;Graphite, pen, color pencil, i…</td><td>&quot;13 1/2 x 12 1/2&quot; (34.3 x 31.8 …</td><td>&quot;Gift of Jo Carole and Ronald S…</td><td>&quot;1.1997&quot;</td><td>&quot;Architecture&quot;</td><td>&quot;Architecture &amp; Design&quot;</td><td>&quot;1997-01-15&quot;</td><td>&quot;Y&quot;</td><td>4</td><td>&quot;http://www.moma.org/collection…</td><td>&quot;http://www.moma.org/media/W1si…</td><td>null</td><td>null</td><td>null</td><td>34.3</td><td>null</td><td>null</td><td>31.8</td><td>null</td><td>null</td></tr><tr><td>&quot;The Manhattan Transcripts Proj…</td><td>&quot;Bernard Tschumi&quot;</td><td>&quot;7056&quot;</td><td>&quot;(French and Swiss, born Switze…</td><td>&quot;()&quot;</td><td>&quot;(1944)&quot;</td><td>&quot;(0)&quot;</td><td>&quot;(Male)&quot;</td><td>&quot;1980&quot;</td><td>&quot;Photographic reproduction with…</td><td>&quot;20 x 20&quot; (50.8 x 50.8 cm)&quot;</td><td>&quot;Purchase and partial gift of t…</td><td>&quot;2.1995&quot;</td><td>&quot;Architecture&quot;</td><td>&quot;Architecture &amp; Design&quot;</td><td>&quot;1995-01-17&quot;</td><td>&quot;Y&quot;</td><td>5</td><td>&quot;http://www.moma.org/collection…</td><td>&quot;http://www.moma.org/media/W1si…</td><td>null</td><td>null</td><td>null</td><td>50.8</td><td>null</td><td>null</td><td>50.8</td><td>null</td><td>null</td></tr><tr><td>&quot;Villa, project, outside Vienna…</td><td>&quot;Emil Hoppe&quot;</td><td>&quot;7605&quot;</td><td>&quot;(Austrian, 1876–1957)&quot;</td><td>&quot;(Austrian)&quot;</td><td>&quot;(1876)&quot;</td><td>&quot;(1957)&quot;</td><td>&quot;(Male)&quot;</td><td>&quot;1903&quot;</td><td>&quot;Graphite, color pencil, ink, a…</td><td>&quot;15 1/8 x 7 1/2&quot; (38.4 x 19.1 c…</td><td>&quot;Gift of Jo Carole and Ronald S…</td><td>&quot;2.1997&quot;</td><td>&quot;Architecture&quot;</td><td>&quot;Architecture &amp; Design&quot;</td><td>&quot;1997-01-15&quot;</td><td>&quot;Y&quot;</td><td>6</td><td>&quot;http://www.moma.org/collection…</td><td>&quot;http://www.moma.org/media/W1si…</td><td>null</td><td>null</td><td>null</td><td>38.4</td><td>null</td><td>null</td><td>19.1</td><td>null</td><td>null</td></tr><tr><td>&hellip;</td><td>&hellip;</td><td>&hellip;</td><td>&hellip;</td><td>&hellip;</td><td>&hellip;</td><td>&hellip;</td><td>&hellip;</td><td>&hellip;</td><td>&hellip;</td><td>&hellip;</td><td>&hellip;</td><td>&hellip;</td><td>&hellip;</td><td>&hellip;</td><td>&hellip;</td><td>&hellip;</td><td>&hellip;</td><td>&hellip;</td><td>&hellip;</td><td>&hellip;</td><td>&hellip;</td><td>&hellip;</td><td>&hellip;</td><td>&hellip;</td><td>&hellip;</td><td>&hellip;</td><td>&hellip;</td><td>&hellip;</td></tr><tr><td>&quot;Untitled&quot;</td><td>&quot;Chesnutt Brothers Studio, Andr…</td><td>&quot;133005, 133006, 133007&quot;</td><td>&quot;(American, 1861–1934) (America…</td><td>&quot;() (American) (American)&quot;</td><td>&quot;(0) (1861) (1860)&quot;</td><td>&quot;(0) (1934) (1933)&quot;</td><td>&quot;() (Male) (Male)&quot;</td><td>&quot;c. 1890&quot;</td><td>&quot;Gelatin silver print&quot;</td><td>&quot;4 1/4 × 6 1/2&quot; (10.8 × 16.5 cm…</td><td>&quot;Gift of John Jeremiah Sullivan&quot;</td><td>&quot;TR16527.25&quot;</td><td>&quot;Photograph&quot;</td><td>&quot;Photography&quot;</td><td>&quot;2020-10-07&quot;</td><td>&quot;Y&quot;</td><td>418928</td><td>&quot;http://www.moma.org/collection…</td><td>&quot;http://www.moma.org/media/W1si…</td><td>null</td><td>null</td><td>null</td><td>10.795022</td><td>null</td><td>null</td><td>16.510033</td><td>null</td><td>null</td></tr><tr><td>&quot;Plate (folio 2 verso) from Mus…</td><td>&quot;Sophie Taeuber-Arp&quot;</td><td>&quot;5777&quot;</td><td>&quot;(Swiss, 1889–1943)&quot;</td><td>&quot;(Swiss)&quot;</td><td>&quot;(1889)&quot;</td><td>&quot;(1943)&quot;</td><td>&quot;(Female)&quot;</td><td>&quot;1939&quot;</td><td>&quot;One from an illustrated book w…</td><td>&quot;composition: 5 5/16 × 3 15/16&quot;…</td><td>&quot;The Abby Aldrich Rockefeller E…</td><td>&quot;762.2019.1&quot;</td><td>&quot;Illustrated Book&quot;</td><td>&quot;Drawings &amp; Prints&quot;</td><td>&quot;2019-12-11&quot;</td><td>&quot;Y&quot;</td><td>419286</td><td>&quot;http://www.moma.org/collection…</td><td>&quot;http://www.moma.org/media/W1si…</td><td>null</td><td>null</td><td>null</td><td>13.5</td><td>null</td><td>null</td><td>10.0</td><td>null</td><td>null</td></tr><tr><td>&quot;Plate (folio 6) from Muscheln …</td><td>&quot;Sophie Taeuber-Arp&quot;</td><td>&quot;5777&quot;</td><td>&quot;(Swiss, 1889–1943)&quot;</td><td>&quot;(Swiss)&quot;</td><td>&quot;(1889)&quot;</td><td>&quot;(1943)&quot;</td><td>&quot;(Female)&quot;</td><td>&quot;1939&quot;</td><td>&quot;One from an illustrated book w…</td><td>&quot;composition: 5 5/16 × 3 15/16&quot;…</td><td>&quot;The Abby Aldrich Rockefeller E…</td><td>&quot;762.2019.2&quot;</td><td>&quot;Illustrated Book&quot;</td><td>&quot;Drawings &amp; Prints&quot;</td><td>&quot;2019-12-11&quot;</td><td>&quot;Y&quot;</td><td>419287</td><td>&quot;http://www.moma.org/collection…</td><td>&quot;http://www.moma.org/media/W1si…</td><td>null</td><td>null</td><td>null</td><td>13.5</td><td>null</td><td>null</td><td>10.0</td><td>null</td><td>null</td></tr><tr><td>&quot;Plate (folio 12) from Muscheln…</td><td>&quot;Sophie Taeuber-Arp&quot;</td><td>&quot;5777&quot;</td><td>&quot;(Swiss, 1889–1943)&quot;</td><td>&quot;(Swiss)&quot;</td><td>&quot;(1889)&quot;</td><td>&quot;(1943)&quot;</td><td>&quot;(Female)&quot;</td><td>&quot;1939&quot;</td><td>&quot;One from an illustrated book w…</td><td>&quot;composition: 4 5/16 × 3 15/16&quot;…</td><td>&quot;The Abby Aldrich Rockefeller E…</td><td>&quot;762.2019.3&quot;</td><td>&quot;Illustrated Book&quot;</td><td>&quot;Drawings &amp; Prints&quot;</td><td>&quot;2019-12-11&quot;</td><td>&quot;Y&quot;</td><td>419288</td><td>&quot;http://www.moma.org/collection…</td><td>&quot;http://www.moma.org/media/W1si…</td><td>null</td><td>null</td><td>null</td><td>11.0</td><td>null</td><td>null</td><td>10.0</td><td>null</td><td>null</td></tr><tr><td>&quot;Plate (folio 16) from Muscheln…</td><td>&quot;Sophie Taeuber-Arp&quot;</td><td>&quot;5777&quot;</td><td>&quot;(Swiss, 1889–1943)&quot;</td><td>&quot;(Swiss)&quot;</td><td>&quot;(1889)&quot;</td><td>&quot;(1943)&quot;</td><td>&quot;(Female)&quot;</td><td>&quot;1939&quot;</td><td>&quot;One from an illustrated book w…</td><td>&quot;composition: 5 5/16 × 3 15/16&quot;…</td><td>&quot;The Abby Aldrich Rockefeller E…</td><td>&quot;762.2019.4&quot;</td><td>&quot;Illustrated Book&quot;</td><td>&quot;Drawings &amp; Prints&quot;</td><td>&quot;2019-12-11&quot;</td><td>&quot;Y&quot;</td><td>419289</td><td>&quot;http://www.moma.org/collection…</td><td>&quot;http://www.moma.org/media/W1si…</td><td>null</td><td>null</td><td>null</td><td>13.5</td><td>null</td><td>null</td><td>10.0</td><td>null</td><td>null</td></tr></tbody></table></div>"
      ],
      "text/plain": [
       "shape: (138_151, 29)\n",
       "┌───────────┬───────────┬───────────┬───────────┬───┬───────────┬───────────┬───────────┬──────────┐\n",
       "│ Title     ┆ Artist    ┆ Constitue ┆ ArtistBio ┆ … ┆ Weight    ┆ Width     ┆ Seat      ┆ Duration │\n",
       "│ ---       ┆ ---       ┆ ntID      ┆ ---       ┆   ┆ (kg)      ┆ (cm)      ┆ Height    ┆ (sec.)   │\n",
       "│ str       ┆ str       ┆ ---       ┆ str       ┆   ┆ ---       ┆ ---       ┆ (cm)      ┆ ---      │\n",
       "│           ┆           ┆ str       ┆           ┆   ┆ f64       ┆ f64       ┆ ---       ┆ f64      │\n",
       "│           ┆           ┆           ┆           ┆   ┆           ┆           ┆ f64       ┆          │\n",
       "╞═══════════╪═══════════╪═══════════╪═══════════╪═══╪═══════════╪═══════════╪═══════════╪══════════╡\n",
       "│ Ferdinand ┆ Otto      ┆ 6210      ┆ (Austrian ┆ … ┆ null      ┆ 168.9     ┆ null      ┆ null     │\n",
       "│ sbrücke   ┆ Wagner    ┆           ┆ , 1841–19 ┆   ┆           ┆           ┆           ┆          │\n",
       "│ Project,  ┆           ┆           ┆ 18)       ┆   ┆           ┆           ┆           ┆          │\n",
       "│ Vien…     ┆           ┆           ┆           ┆   ┆           ┆           ┆           ┆          │\n",
       "│ City of   ┆ Christian ┆ 7470      ┆ (French,  ┆ … ┆ null      ┆ 29.8451   ┆ null      ┆ null     │\n",
       "│ Music,    ┆ de Portza ┆           ┆ born      ┆   ┆           ┆           ┆           ┆          │\n",
       "│ National  ┆ mparc     ┆           ┆ 1944)     ┆   ┆           ┆           ┆           ┆          │\n",
       "│ Superi…   ┆           ┆           ┆           ┆   ┆           ┆           ┆           ┆          │\n",
       "│ Villa     ┆ Emil      ┆ 7605      ┆ (Austrian ┆ … ┆ null      ┆ 31.8      ┆ null      ┆ null     │\n",
       "│ near      ┆ Hoppe     ┆           ┆ , 1876–19 ┆   ┆           ┆           ┆           ┆          │\n",
       "│ Vienna    ┆           ┆           ┆ 57)       ┆   ┆           ┆           ┆           ┆          │\n",
       "│ Project,  ┆           ┆           ┆           ┆   ┆           ┆           ┆           ┆          │\n",
       "│ Out…      ┆           ┆           ┆           ┆   ┆           ┆           ┆           ┆          │\n",
       "│ The       ┆ Bernard   ┆ 7056      ┆ (French   ┆ … ┆ null      ┆ 50.8      ┆ null      ┆ null     │\n",
       "│ Manhattan ┆ Tschumi   ┆           ┆ and       ┆   ┆           ┆           ┆           ┆          │\n",
       "│ Transcrip ┆           ┆           ┆ Swiss,    ┆   ┆           ┆           ┆           ┆          │\n",
       "│ ts Proj…  ┆           ┆           ┆ born      ┆   ┆           ┆           ┆           ┆          │\n",
       "│           ┆           ┆           ┆ Switze…   ┆   ┆           ┆           ┆           ┆          │\n",
       "│ Villa,    ┆ Emil      ┆ 7605      ┆ (Austrian ┆ … ┆ null      ┆ 19.1      ┆ null      ┆ null     │\n",
       "│ project,  ┆ Hoppe     ┆           ┆ , 1876–19 ┆   ┆           ┆           ┆           ┆          │\n",
       "│ outside   ┆           ┆           ┆ 57)       ┆   ┆           ┆           ┆           ┆          │\n",
       "│ Vienna…   ┆           ┆           ┆           ┆   ┆           ┆           ┆           ┆          │\n",
       "│ …         ┆ …         ┆ …         ┆ …         ┆ … ┆ …         ┆ …         ┆ …         ┆ …        │\n",
       "│ Untitled  ┆ Chesnutt  ┆ 133005,   ┆ (American ┆ … ┆ null      ┆ 16.510033 ┆ null      ┆ null     │\n",
       "│           ┆ Brothers  ┆ 133006,   ┆ , 1861–19 ┆   ┆           ┆           ┆           ┆          │\n",
       "│           ┆ Studio,   ┆ 133007    ┆ 34)       ┆   ┆           ┆           ┆           ┆          │\n",
       "│           ┆ Andr…     ┆           ┆ (America… ┆   ┆           ┆           ┆           ┆          │\n",
       "│ Plate     ┆ Sophie    ┆ 5777      ┆ (Swiss,   ┆ … ┆ null      ┆ 10.0      ┆ null      ┆ null     │\n",
       "│ (folio 2  ┆ Taeuber-A ┆           ┆ 1889–1943 ┆   ┆           ┆           ┆           ┆          │\n",
       "│ verso)    ┆ rp        ┆           ┆ )         ┆   ┆           ┆           ┆           ┆          │\n",
       "│ from Mus… ┆           ┆           ┆           ┆   ┆           ┆           ┆           ┆          │\n",
       "│ Plate     ┆ Sophie    ┆ 5777      ┆ (Swiss,   ┆ … ┆ null      ┆ 10.0      ┆ null      ┆ null     │\n",
       "│ (folio 6) ┆ Taeuber-A ┆           ┆ 1889–1943 ┆   ┆           ┆           ┆           ┆          │\n",
       "│ from      ┆ rp        ┆           ┆ )         ┆   ┆           ┆           ┆           ┆          │\n",
       "│ Muscheln  ┆           ┆           ┆           ┆   ┆           ┆           ┆           ┆          │\n",
       "│ …         ┆           ┆           ┆           ┆   ┆           ┆           ┆           ┆          │\n",
       "│ Plate     ┆ Sophie    ┆ 5777      ┆ (Swiss,   ┆ … ┆ null      ┆ 10.0      ┆ null      ┆ null     │\n",
       "│ (folio    ┆ Taeuber-A ┆           ┆ 1889–1943 ┆   ┆           ┆           ┆           ┆          │\n",
       "│ 12) from  ┆ rp        ┆           ┆ )         ┆   ┆           ┆           ┆           ┆          │\n",
       "│ Muscheln… ┆           ┆           ┆           ┆   ┆           ┆           ┆           ┆          │\n",
       "│ Plate     ┆ Sophie    ┆ 5777      ┆ (Swiss,   ┆ … ┆ null      ┆ 10.0      ┆ null      ┆ null     │\n",
       "│ (folio    ┆ Taeuber-A ┆           ┆ 1889–1943 ┆   ┆           ┆           ┆           ┆          │\n",
       "│ 16) from  ┆ rp        ┆           ┆ )         ┆   ┆           ┆           ┆           ┆          │\n",
       "│ Muscheln… ┆           ┆           ┆           ┆   ┆           ┆           ┆           ┆          │\n",
       "└───────────┴───────────┴───────────┴───────────┴───┴───────────┴───────────┴───────────┴──────────┘"
      ]
     },
     "execution_count": 20,
     "metadata": {},
     "output_type": "execute_result"
    }
   ],
   "source": [
    "artwork_data = pl.read_csv('./sample_data/Artworks.csv',dtypes = artwork_dtypes ) \n",
    "artwork_data"
   ]
  },
  {
   "cell_type": "code",
   "execution_count": 53,
   "id": "b40e74ef-326f-4769-b960-908895775896",
   "metadata": {},
   "outputs": [
    {
     "data": {
      "text/html": [
       "<div><style>\n",
       ".dataframe > thead > tr,\n",
       ".dataframe > tbody > tr {\n",
       "  text-align: right;\n",
       "  white-space: pre-wrap;\n",
       "}\n",
       "</style>\n",
       "<small>shape: (40, 3)</small><table border=\"1\" class=\"dataframe\"><thead><tr><th>ConstituentID</th><th>Measurment_Type</th><th>Measurment_mm</th></tr><tr><td>str</td><td>str</td><td>f64</td></tr></thead><tbody><tr><td>&quot;6210&quot;</td><td>&quot;Circumference (cm)&quot;</td><td>null</td></tr><tr><td>&quot;7470&quot;</td><td>&quot;Circumference (cm)&quot;</td><td>null</td></tr><tr><td>&quot;7605&quot;</td><td>&quot;Circumference (cm)&quot;</td><td>null</td></tr><tr><td>&quot;7056&quot;</td><td>&quot;Circumference (cm)&quot;</td><td>null</td></tr><tr><td>&quot;7605&quot;</td><td>&quot;Circumference (cm)&quot;</td><td>null</td></tr><tr><td>&hellip;</td><td>&hellip;</td><td>&hellip;</td></tr><tr><td>&quot;7056&quot;</td><td>&quot;Circumference (cm)&quot;</td><td>null</td></tr><tr><td>&quot;7608&quot;</td><td>&quot;Circumference (cm)&quot;</td><td>null</td></tr><tr><td>&quot;7056&quot;</td><td>&quot;Circumference (cm)&quot;</td><td>null</td></tr><tr><td>&quot;7056&quot;</td><td>&quot;Circumference (cm)&quot;</td><td>null</td></tr><tr><td>&quot;7056&quot;</td><td>&quot;Circumference (cm)&quot;</td><td>null</td></tr></tbody></table></div>"
      ],
      "text/plain": [
       "shape: (40, 3)\n",
       "┌───────────────┬────────────────────┬───────────────┐\n",
       "│ ConstituentID ┆ Measurment_Type    ┆ Measurment_mm │\n",
       "│ ---           ┆ ---                ┆ ---           │\n",
       "│ str           ┆ str                ┆ f64           │\n",
       "╞═══════════════╪════════════════════╪═══════════════╡\n",
       "│ 6210          ┆ Circumference (cm) ┆ null          │\n",
       "│ 7470          ┆ Circumference (cm) ┆ null          │\n",
       "│ 7605          ┆ Circumference (cm) ┆ null          │\n",
       "│ 7056          ┆ Circumference (cm) ┆ null          │\n",
       "│ 7605          ┆ Circumference (cm) ┆ null          │\n",
       "│ …             ┆ …                  ┆ …             │\n",
       "│ 7056          ┆ Circumference (cm) ┆ null          │\n",
       "│ 7608          ┆ Circumference (cm) ┆ null          │\n",
       "│ 7056          ┆ Circumference (cm) ┆ null          │\n",
       "│ 7056          ┆ Circumference (cm) ┆ null          │\n",
       "│ 7056          ┆ Circumference (cm) ┆ null          │\n",
       "└───────────────┴────────────────────┴───────────────┘"
      ]
     },
     "execution_count": 53,
     "metadata": {},
     "output_type": "execute_result"
    }
   ],
   "source": [
    "#(artwork_data.with_columns(ID = pl.lit('')))\n",
    "\n",
    "\n",
    "artwork_data_cols = ['Circumference (cm)', 'Depth (cm)','Diameter (cm)','Height (cm)','Length (cm)','Weight (kg)','Width (cm)','Seat Height (cm)','Duration (sec.)']\n",
    "\n",
    "stacked_artwork = (artwork_data.unpivot(artwork_data_cols, \n",
    "                      index = 'ConstituentID', \n",
    "                      variable_name = 'Measurment_Type', \n",
    "                      value_name = 'Measurement (cm)'\n",
    "                     )\n",
    "             .with_columns(Measurment_mm = pl.when(pl.col('Measurment_Type').str.contains(r'\\(cm\\)'))\n",
    "                                          .then(pl.col('Measurement (cm)') *10)\n",
    "                                          .otherwise(pl.col('Measurement (cm)'))\n",
    "                                          \n",
    "                         )\n",
    "            .drop('Measurement (cm)')\n",
    "                   \n",
    " \n",
    ")\n",
    "stacked_artwork.head(40)\n",
    "\n",
    "               "
   ]
  },
  {
   "cell_type": "code",
   "execution_count": 54,
   "id": "3c7cf4a1-f214-4305-afad-81639fc625a0",
   "metadata": {},
   "outputs": [
    {
     "ename": "TypeError",
     "evalue": "Col.__call__() missing 1 required positional argument: 'name'",
     "output_type": "error",
     "traceback": [
      "\u001b[1;31m---------------------------------------------------------------------------\u001b[0m",
      "\u001b[1;31mTypeError\u001b[0m                                 Traceback (most recent call last)",
      "Cell \u001b[1;32mIn[54], line 4\u001b[0m\n\u001b[0;32m      1\u001b[0m unstack_artwork \u001b[38;5;241m=\u001b[39m (stacked_artwork\u001b[38;5;241m.\u001b[39mpivot(\u001b[38;5;124m'\u001b[39m\u001b[38;5;124mMeasurment_Type\u001b[39m\u001b[38;5;124m'\u001b[39m, \n\u001b[0;32m      2\u001b[0m                                   index \u001b[38;5;241m=\u001b[39m \u001b[38;5;124m'\u001b[39m\u001b[38;5;124mConstituentID\u001b[39m\u001b[38;5;124m'\u001b[39m,\n\u001b[0;32m      3\u001b[0m                                   values \u001b[38;5;241m=\u001b[39m \u001b[38;5;124m'\u001b[39m\u001b[38;5;124mMeasurment_mm\u001b[39m\u001b[38;5;124m'\u001b[39m,\n\u001b[1;32m----> 4\u001b[0m                                   aggregate_function \u001b[38;5;241m=\u001b[39m \u001b[43mpl\u001b[49m\u001b[38;5;241;43m.\u001b[39;49m\u001b[43msum\u001b[49m\u001b[43m(\u001b[49m\u001b[43m)\u001b[49m\n\u001b[0;32m      5\u001b[0m                                          \n\u001b[0;32m      6\u001b[0m                                         \n\u001b[0;32m      7\u001b[0m                                         )\n\u001b[0;32m      8\u001b[0m                   )\n",
      "File \u001b[1;32m~\\AppData\\Local\\anaconda3\\envs\\polar\\Lib\\site-packages\\polars\\functions\\aggregation\\vertical.py:294\u001b[0m, in \u001b[0;36msum\u001b[1;34m(*names)\u001b[0m\n\u001b[0;32m    237\u001b[0m \u001b[38;5;28;01mdef\u001b[39;00m \u001b[38;5;21msum\u001b[39m(\u001b[38;5;241m*\u001b[39mnames: \u001b[38;5;28mstr\u001b[39m) \u001b[38;5;241m-\u001b[39m\u001b[38;5;241m>\u001b[39m Expr:\n\u001b[0;32m    238\u001b[0m \u001b[38;5;250m    \u001b[39m\u001b[38;5;124;03m\"\"\"\u001b[39;00m\n\u001b[0;32m    239\u001b[0m \u001b[38;5;124;03m    Sum all values.\u001b[39;00m\n\u001b[0;32m    240\u001b[0m \n\u001b[1;32m   (...)\u001b[0m\n\u001b[0;32m    292\u001b[0m \u001b[38;5;124;03m    └─────┴─────┘\u001b[39;00m\n\u001b[0;32m    293\u001b[0m \u001b[38;5;124;03m    \"\"\"\u001b[39;00m\n\u001b[1;32m--> 294\u001b[0m     \u001b[38;5;28;01mreturn\u001b[39;00m \u001b[43mF\u001b[49m\u001b[38;5;241;43m.\u001b[39;49m\u001b[43mcol\u001b[49m\u001b[43m(\u001b[49m\u001b[38;5;241;43m*\u001b[39;49m\u001b[43mnames\u001b[49m\u001b[43m)\u001b[49m\u001b[38;5;241m.\u001b[39msum()\n",
      "\u001b[1;31mTypeError\u001b[0m: Col.__call__() missing 1 required positional argument: 'name'"
     ]
    }
   ],
   "source": [
    "unstack_artwork = (stacked_artwork.pivot('Measurment_Type', \n",
    "                                  index = 'ConstituentID',\n",
    "                                  values = 'Measurment_mm',\n",
    "                                  aggregate_function = sum\n",
    "                                         \n",
    "                                        \n",
    "                                        )\n",
    "                  )"
   ]
  },
  {
   "cell_type": "code",
   "execution_count": null,
   "id": "5a9a24aa-b4e4-42ea-9661-59871821eeb1",
   "metadata": {},
   "outputs": [],
   "source": []
  }
 ],
 "metadata": {
  "kernelspec": {
   "display_name": "Python 3 (ipykernel)",
   "language": "python",
   "name": "python3"
  },
  "language_info": {
   "codemirror_mode": {
    "name": "ipython",
    "version": 3
   },
   "file_extension": ".py",
   "mimetype": "text/x-python",
   "name": "python",
   "nbconvert_exporter": "python",
   "pygments_lexer": "ipython3",
   "version": "3.12.5"
  }
 },
 "nbformat": 4,
 "nbformat_minor": 5
}
